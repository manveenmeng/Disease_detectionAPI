{
 "cells": [
  {
   "cell_type": "code",
   "execution_count": 1,
   "id": "d3ecc690-c519-4796-8ca3-4ef5a293da07",
   "metadata": {},
   "outputs": [],
   "source": [
    "# imports\n",
    "# If these fail, please check you're running from an 'activated' environment with (llms) in the command prompt\n",
    "\n",
    "import os\n",
    "import requests\n",
    "import json\n",
    "from typing import List\n",
    "from dotenv import load_dotenv\n",
    "from bs4 import BeautifulSoup\n",
    "from IPython.display import Markdown, display, update_display\n",
    "from openai import OpenAI"
   ]
  },
  {
   "cell_type": "code",
   "execution_count": 2,
   "id": "122ab563-9d61-4512-9749-daffb7bcc67f",
   "metadata": {},
   "outputs": [
    {
     "name": "stdout",
     "output_type": "stream",
     "text": [
      "API key looks good so far\n"
     ]
    }
   ],
   "source": [
    "# Initialize and constants\n",
    "\n",
    "load_dotenv()\n",
    "api_key = os.getenv('OPENAI_API_KEY')\n",
    "\n",
    "if api_key and api_key.startswith('sk-proj-') and len(api_key)>10:\n",
    "    print(\"API key looks good so far\")\n",
    "else:\n",
    "    print(\"There might be a problem with your API key? Please visit the troubleshooting notebook!\")\n",
    "    \n",
    "MODEL = 'gpt-4o-mini'\n",
    "openai = OpenAI()"
   ]
  },
  {
   "cell_type": "code",
   "execution_count": 3,
   "id": "39d60654-3661-4e67-9731-11aeaeeea519",
   "metadata": {},
   "outputs": [
    {
     "name": "stdout",
     "output_type": "stream",
     "text": [
      "## Identified Diseases\n",
      "\n",
      "1. **Left Image**:  \n",
      "   - **Disease**: Leaf Spot (possibly Septoria or Phyllosticta).\n",
      "   - **Symptoms**: Brown or black spots with yellow margins, leaf discoloration.\n",
      "\n",
      "2. **Right Image**:  \n",
      "   - **Disease**: Powdery Mildew.\n",
      "   - **Symptoms**: White, powdery fungal growth on leaves.\n",
      "\n",
      "## Suggested Remedies\n",
      "\n",
      "### For Leaf Spot\n",
      "- **Cultural Practices**: \n",
      "  - Remove infected leaves.\n",
      "  - Ensure good air circulation.\n",
      "  - Avoid overhead watering.\n",
      "  \n",
      "- **Fungicides**: \n",
      "  - Apply fungicides labeled for leaf spot control.\n",
      "\n",
      "### For Powdery Mildew\n",
      "- **Cultural Practices**: \n",
      "  - Thin out plants to improve airflow.\n",
      "  - Water plants at the base to avoid moisture on leaves.\n",
      "\n",
      "- **Fungicides**: \n",
      "  - Use sulfur-based fungicides or potassium bicarbonate.\n",
      "\n",
      "### General Tips\n",
      "- **Monitoring**: Regularly check for early signs of disease.\n",
      "- **Rotation**: Rotate crops to prevent recurring issues.\n"
     ]
    }
   ],
   "source": [
    "import base64\n",
    "from openai import OpenAI\n",
    "\n",
    "client = OpenAI()\n",
    "\n",
    "# Function to encode the image\n",
    "def encode_image(image_path):\n",
    "  with open(image_path, \"rb\") as image_file:\n",
    "    return base64.b64encode(image_file.read()).decode('utf-8')\n",
    "\n",
    "# Path to your image\n",
    "image_path = \"Simage1.jpg\"\n",
    "\n",
    "# Getting the base64 string\n",
    "base64_image = encode_image(image_path)\n",
    "\n",
    "response = client.chat.completions.create(\n",
    "  model=\"gpt-4o-mini\",\n",
    "  messages=[\n",
    "    {\n",
    "      \"role\": \"user\",\n",
    "      \"content\": [\n",
    "        {\n",
    "          \"type\": \"text\",\n",
    "          \"text\": \"In the image identify the disease on the strawberry leaves and suggest remedies in short. Respond in markdown\",\n",
    "        },\n",
    "        {\n",
    "          \"type\": \"image_url\",\n",
    "          \"image_url\": {\n",
    "            \"url\":  f\"data:image/jpeg;base64,{base64_image}\"\n",
    "          },\n",
    "        },\n",
    "      ],\n",
    "    }\n",
    "  ],\n",
    ")\n",
    "\n",
    "print(response.choices[0].message.content)\n",
    "      "
   ]
  },
  {
   "cell_type": "code",
   "execution_count": null,
   "id": "4631cfb8-30d9-4072-9718-d3ccb0ffbb9d",
   "metadata": {},
   "outputs": [],
   "source": []
  }
 ],
 "metadata": {
  "kernelspec": {
   "display_name": "Python 3 (ipykernel)",
   "language": "python",
   "name": "python3"
  },
  "language_info": {
   "codemirror_mode": {
    "name": "ipython",
    "version": 3
   },
   "file_extension": ".py",
   "mimetype": "text/x-python",
   "name": "python",
   "nbconvert_exporter": "python",
   "pygments_lexer": "ipython3",
   "version": "3.11.10"
  }
 },
 "nbformat": 4,
 "nbformat_minor": 5
}
